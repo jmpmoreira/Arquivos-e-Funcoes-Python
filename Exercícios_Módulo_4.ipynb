{
  "nbformat": 4,
  "nbformat_minor": 0,
  "metadata": {
    "colab": {
      "name": "Exercícios Módulo 4",
      "provenance": []
    },
    "kernelspec": {
      "name": "python3",
      "display_name": "Python 3"
    },
    "language_info": {
      "name": "python"
    }
  },
  "cells": [
    {
      "cell_type": "code",
      "execution_count": 1,
      "metadata": {
        "colab": {
          "base_uri": "https://localhost:8080/"
        },
        "id": "9v2V-1jyUsot",
        "outputId": "03c8f934-d864-4f73-b27a-ac774a7c6c78"
      },
      "outputs": [
        {
          "output_type": "stream",
          "name": "stdout",
          "text": [
            "Writing carros.csv\n"
          ]
        }
      ],
      "source": [
        "%%writefile carros.csv\n",
        "id,valor_venda,valor_manutencao,portas,pessoas,porta_malas\n",
        "1,vhigh,med,2,2,small\n",
        "2,med,vhigh,2,2,small\n",
        "3,low,vhigh,2,2,small\n",
        "4,low,high,2,2,small\n",
        "5,low,high,2,2,small\n",
        "6,low,high,4,4,big\n",
        "7,low,high,4,4,big\n",
        "8,low,med,2,2,small\n",
        "9,low,med,2,2,small\n",
        "10,low,med,2,2,small\n",
        "11,low,med,4,4,big\n",
        "12,low,low,2,2,small\n",
        "13,low,low,4,4,small\n",
        "14,low,low,4,4,med"
      ]
    },
    {
      "cell_type": "code",
      "source": [
        "%%writefile musica.txt\n",
        "Roda Viva\n",
        "Chico Buarque\n",
        "Tem dias que a gente se sente\n",
        "Como quem partiu ou morreu\n",
        "A gente estancou de repente\n",
        "Ou foi o mundo então que cresceu\n",
        "A gente quer ter voz ativa\n",
        "No nosso destino mandar\n",
        "Mas eis que chega a roda viva\n",
        "E carrega o destino pra lá\n",
        "Roda mundo, roda-gigante\n",
        "Roda moinho, roda pião\n",
        "O tempo rodou num instante\n",
        "Nas voltas do meu coração\n",
        "A gente vai contra a corrente\n",
        "Até não poder resistir\n",
        "Na volta do barco é que sente\n",
        "O quanto deixou de cumprir\n",
        "Faz tempo que a gente cultiva\n",
        "A mais linda roseira que há\n",
        "Mas eis que chega a roda viva\n",
        "E carrega a roseira pra lá\n",
        "Roda mundo, roda-gigante\n",
        "Roda moinho, roda pião\n"
      ],
      "metadata": {
        "id": "Qp_bS9D_VLSY",
        "outputId": "3270be35-43b7-490b-efdd-b06227f8e97f",
        "colab": {
          "base_uri": "https://localhost:8080/"
        }
      },
      "execution_count": 2,
      "outputs": [
        {
          "output_type": "stream",
          "name": "stdout",
          "text": [
            "Writing musica.txt\n"
          ]
        }
      ]
    },
    {
      "cell_type": "markdown",
      "source": [
        "Complete a função abaixo para extrair uma coluna do arquivo csv em uma lista. Os elementos\n",
        "devem ter o tipo de dado correto.\n"
      ],
      "metadata": {
        "id": "OX4vCnxrSlGQ"
      }
    },
    {
      "cell_type": "code",
      "source": [
        "def extrai_coluna_csv(nome_arquivo: str, indice_coluna: int, tipo_dado: str):\n",
        "\n",
        "\n",
        "\n",
        "  coluna = []\n",
        "\n",
        "\n",
        "\n",
        "  with open(file='./carros.csv', mode='r', encoding='utf8') as arquivo:\n",
        "\n",
        "   linha = arquivo.readline()\n",
        "\n",
        "   linha = arquivo.readline()\n",
        "\n",
        "   while linha:\n",
        "\n",
        "     linha_separada = linha.split(sep=',')\n",
        "\n",
        "     extrair_coluna = linha_separada[indice_coluna]\n",
        "\n",
        "     if tipo_dado == 'str':\n",
        "\n",
        "       extrair_coluna = str(extrair_coluna)\n",
        "\n",
        "       coluna.append(extrair_coluna)\n",
        "\n",
        "       linha = arquivo.readline()\n",
        "\n",
        "     else:\n",
        "\n",
        "       coluna.append(extrair_coluna)\n",
        "\n",
        "       linha = arquivo.readline()  \n",
        "\n",
        "\n",
        "\n",
        "\n",
        "\n",
        "  return coluna\n",
        "\n",
        "\n",
        "\n"
      ],
      "metadata": {
        "id": "RNjcz9tBU9sT"
      },
      "execution_count": 10,
      "outputs": []
    },
    {
      "cell_type": "code",
      "source": [
        "# extrair a coluna valor_venda\n",
        "valor_venda = extrai_coluna_csv(\n",
        " nome_arquivo='./carros.csv',\n",
        " indice_coluna=1,\n",
        " tipo_dado='str'\n",
        ")\n",
        "print(valor_venda) "
      ],
      "metadata": {
        "colab": {
          "base_uri": "https://localhost:8080/"
        },
        "id": "Zw_Eqz4wSwR4",
        "outputId": "7fb0df32-af0a-43c3-bca1-e4da7b363abe"
      },
      "execution_count": 14,
      "outputs": [
        {
          "output_type": "stream",
          "name": "stdout",
          "text": [
            "['vhigh', 'med', 'low', 'low', 'low', 'low', 'low', 'low', 'low', 'low', 'low', 'low', 'low', 'low']\n"
          ]
        }
      ]
    },
    {
      "cell_type": "code",
      "source": [
        "# extrair a coluna pessoas\n",
        "pessoas = extrai_coluna_csv(\n",
        " nome_arquivo='./carros.csv',\n",
        " indice_coluna=4,\n",
        " tipo_dado='int'\n",
        ")\n",
        "print(pessoas)"
      ],
      "metadata": {
        "colab": {
          "base_uri": "https://localhost:8080/"
        },
        "id": "-YXKhRaCS5Qf",
        "outputId": "58b78491-f9a9-46bd-b665-c41620d64e5c"
      },
      "execution_count": 15,
      "outputs": [
        {
          "output_type": "stream",
          "name": "stdout",
          "text": [
            "['2', '2', '2', '2', '2', '4', '4', '2', '2', '2', '4', '2', '4', '4']\n"
          ]
        }
      ]
    },
    {
      "cell_type": "markdown",
      "source": [
        "Complete a função abaixo para extrair uma as palavras de uma linha do arquivo txt em uma\n",
        "lista"
      ],
      "metadata": {
        "id": "PRM-2uLySStP"
      }
    },
    {
      "cell_type": "code",
      "source": [
        "linha_10 = []\n",
        "\n",
        "resultado = []\n",
        "\n",
        "with open (file ='./musica.txt', mode = 'r', encoding = 'utf8') as palavras:\n",
        "\n",
        "  linha = palavras.readline()\n",
        "\n",
        "  while linha:\n",
        "\n",
        "    separar_palavra = linha.split(sep=\" \")\n",
        "\n",
        "    linha_10.append(separar_palavra)\n",
        "\n",
        "    linha = palavras.readline()\n",
        "\n",
        "for key, value in enumerate(linha_10[8]):\n",
        "\n",
        "  resultado.append(value)\n",
        "\n",
        "print(resultado)"
      ],
      "metadata": {
        "colab": {
          "base_uri": "https://localhost:8080/"
        },
        "id": "pBafsWEyRqS6",
        "outputId": "e29d244a-a382-4004-b5fe-760ea6659d59"
      },
      "execution_count": 13,
      "outputs": [
        {
          "output_type": "stream",
          "name": "stdout",
          "text": [
            "['Mas', 'eis', 'que', 'chega', 'a', 'roda', 'viva\\n']\n"
          ]
        }
      ]
    }
  ]
}